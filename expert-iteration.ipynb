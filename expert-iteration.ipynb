{
 "cells": [
  {
   "cell_type": "code",
   "execution_count": 1,
   "metadata": {},
   "outputs": [],
   "source": [
    "import tensorflow as tf\n",
    "import numpy as np\n",
    "import matplotlib.pyplot as plt\n",
    "import math\n",
    "import threading\n",
    "import queue\n",
    "import os\n",
    "from typing import TypeVar, Dict, Callable, Tuple, Union, List, Generic\n",
    "Fn = Callable\n",
    "\n",
    "%matplotlib inline\n",
    "%load_ext line_profiler"
   ]
  },
  {
   "cell_type": "code",
   "execution_count": 2,
   "metadata": {},
   "outputs": [],
   "source": [
    "Action = int\n",
    "Player = int\n",
    "State = TypeVar('State')\n",
    "c_puct = 1.0\n",
    "dirichlet_eps = 0.25\n",
    "dirichlet_alpha = 0.3\n",
    "\n",
    "def sample(it):\n",
    "    rand = np.random.sample()\n",
    "    t = 0.0\n",
    "    if isinstance(it, dict):\n",
    "        it = it.items()\n",
    "    else:\n",
    "        it = enumerate(it)\n",
    "    for i, f in it:\n",
    "        t = t + f\n",
    "        if rand <= t:\n",
    "            return i\n",
    "        \n",
    "debug = False\n",
    "    \n",
    "class MCTSNode(Generic[State]):\n",
    "    def __init__(self, state: State, probs: np.ndarray, v: float, player: Player) -> None:\n",
    "        self.state: State = state\n",
    "        self.player = player\n",
    "        if not np.any(probs):\n",
    "            self.terminal = True\n",
    "            self.value = v\n",
    "            return\n",
    "        \n",
    "        self.terminal = False\n",
    "        self.actions = np.flatnonzero(probs)\n",
    "        self.inv_actions = np.empty_like(probs, dtype=np.int)\n",
    "        self.inv_actions[self.actions] = np.arange(self.actions.size)\n",
    "        \n",
    "        self.N: np.ndarray = np.zeros_like(self.actions, dtype=np.int)\n",
    "        self.W: np.ndarray = np.zeros_like(self.actions, dtype=np.float)\n",
    "        self.Q: np.ndarray = np.zeros_like(self.actions, dtype=np.float)\n",
    "        self.P: np.ndarray = probs[self.actions]\n",
    "        \n",
    "        self.total_visits: int = 1\n",
    "        self.children: List[MCTSNode] = [None] * probs.size\n",
    "            \n",
    "    def select_action(self) -> Action:\n",
    "        if not self.actions.size:\n",
    "            return None\n",
    "        \n",
    "        root_total = math.sqrt(self.total_visits)\n",
    "        \n",
    "        selection_priorities = self.Q + c_puct * root_total * self.P / (1 + self.N)\n",
    "        if debug:\n",
    "            print(self.state, selection_priorities)\n",
    "        return self.actions[np.argmax(selection_priorities)]\n",
    "    \n",
    "    def backup(self, a, v, p):\n",
    "        self.total_visits = self.total_visits + 1\n",
    "        idx = self.inv_actions[a]\n",
    "        self.N[idx] = self.N[idx] + 1\n",
    "        self.W[idx] = self.W[idx] + (v if p == self.player else -v)\n",
    "        self.Q[idx] = self.W[idx] / self.N[idx]\n",
    "    \n",
    "    def probs(self, temp) -> np.ndarray:\n",
    "        if temp == 0.0:\n",
    "            ret = np.zeros_like(self.inv_actions)\n",
    "            ret[self.actions[np.argmax(self.N)]] = 1.0\n",
    "            return ret\n",
    "        exps = self.N ** (1.0 / temp)\n",
    "        ret = np.zeros_like(self.inv_actions, dtype=np.float)\n",
    "        ret[self.actions] = exps / np.sum(exps)\n",
    "        return ret\n",
    "    \n",
    "class Game(Generic[State]):\n",
    "    def __init__(self):\n",
    "        self.num_players = 2\n",
    "    def gen_root(self) -> State:\n",
    "        raise NotImplemented   \n",
    "    def do_action(self, state: State, action: Action) -> Tuple[State, Player]:\n",
    "        raise NotImplemented   \n",
    "    def get_actions(self, state: State, player: Player) -> List[Action]:\n",
    "        raise NotImplemented   \n",
    "    def end(self, state: State, player: Player) -> Player:\n",
    "        raise NotImplemented\n",
    "    \n",
    "class MCTSPlayer(Generic[State]):\n",
    "    def __init__(self,\n",
    "                 game: Game[State],\n",
    "                 eval_state: Fn[[State, Player], Tuple[np.ndarray, float]]):\n",
    "        self.game = game\n",
    "        self.eval_state = eval_state\n",
    "        \n",
    "    def take_turn(self, root_node: MCTSNode, search_size: int) -> MCTSNode:\n",
    "        for _ in range(search_size):\n",
    "            cur_node = root_node\n",
    "            history: List[Tuple[MCTSNode, Action]] = []\n",
    "\n",
    "            while cur_node and not cur_node.terminal:\n",
    "                action = cur_node.select_action()\n",
    "                history.append((cur_node, action))\n",
    "                cur_node = cur_node.children[action]\n",
    "\n",
    "            value: float\n",
    "            player: int\n",
    "            if cur_node:\n",
    "                value = cur_node.value\n",
    "                player = cur_node.player\n",
    "            else:\n",
    "                prev_node = history[-1][0]\n",
    "                action = history[-1][1]\n",
    "                new_state, player = self.game.do_action(\n",
    "                    prev_node.state, action, prev_node.player)\n",
    "                probs, value = self.eval_state(new_state, player)\n",
    "                new_node = MCTSNode(new_state, probs, value, player)\n",
    "                prev_node.children[action] = new_node\n",
    "\n",
    "            for i, (node, act) in enumerate(reversed(history)):\n",
    "                node.backup(act, value, player)\n",
    "    \n",
    "    def play_self(self, search_size: int, temp: float = 0.0) -> List[Tuple[State, np.ndarray, float, Player]]:\n",
    "        root_state, root_player = self.game.gen_root()\n",
    "        probs, value = self.eval_state(root_state, root_player)\n",
    "        probs = ((1 - dirichlet_eps) * probs + \n",
    "                 dirichlet_eps * np.random.dirichlet(np.full_like(probs, dirichlet_alpha)))\n",
    "        cur_node = MCTSNode(root_state, probs, value, root_player)\n",
    "        history: List[Tuple[State, np.ndarray]] = []\n",
    "        \n",
    "        while not cur_node.terminal:\n",
    "            self.take_turn(cur_node, search_size)\n",
    "            probs = cur_node.probs(temp)\n",
    "            next_act = sample(probs)\n",
    "            \n",
    "            history.append((cur_node, probs))\n",
    "            \n",
    "            cur_node = cur_node.children[next_act]\n",
    "            \n",
    "        history.append((cur_node, None))\n",
    "        r = cur_node.value\n",
    "        fin_player = cur_node.player\n",
    "        \n",
    "        return list(reversed([(n.state, p, r if n.player == fin_player else -r, n.player)\n",
    "                              for i, (n, p) in enumerate(reversed(history))]))\n"
   ]
  },
  {
   "cell_type": "code",
   "execution_count": 3,
   "metadata": {},
   "outputs": [],
   "source": [
    "TTTState = Tuple[np.ndarray, int]\n",
    "\n",
    "class TTT(Game[TTTState]):\n",
    "    _board_shape = (9,)\n",
    "    \n",
    "    def __init__(self):\n",
    "        super().__init__()\n",
    "        \n",
    "    def gen_root(self) -> Tuple[TTTState, Player]:\n",
    "        return np.zeros(TTT._board_shape, dtype=np.int), 1\n",
    "\n",
    "    def do_action(self, s: TTTState, a: Action, p: Player) -> Tuple[TTTState, Player]:\n",
    "        new_board = np.copy(s)\n",
    "        new_board[a] = p\n",
    "        return (new_board, -p)\n",
    "\n",
    "    def get_actions(self, board: TTTState, _: Player) -> np.ndarray:\n",
    "        return np.nonzero(board == 0)[0]\n",
    "\n",
    "    _end_idx = sum([[3 * i, 3 * i + 1, 3 * i + 2, i, i + 3, i + 6 ] for i in range(3)], [])\n",
    "    _end_idx = np.array(_end_idx + [2, 4, 6, 0, 4, 8])\n",
    "    _inv_end_idx = np.array(sum([[3 * i, i] for i in range(3)], []) + [2, 0])\n",
    "    def end(self, board: TTTState, player: Player) -> Player:\n",
    "        z = np.flatnonzero(np.abs(np.sum(board[TTT._end_idx].reshape(8, 3), axis=1)) == 3)\n",
    "        if z.size:\n",
    "            return board[TTT._inv_end_idx[z[0]]] * player\n",
    "\n",
    "        if np.all(board):\n",
    "            return 0.0\n",
    "\n",
    "        return None\n",
    "    \n",
    "ttt = TTT()\n",
    "def ttt_eval_state(s: TTTState, p: Player) -> Tuple[np.ndarray, float]:\n",
    "    end = ttt.end(s, p)\n",
    "    if end != None:\n",
    "        return (np.zeros(TTT._board_shape), end)\n",
    "    acts = np.zeros(TTT._board_shape)\n",
    "    valid_acts = ttt.get_actions(s, p)\n",
    "    acts[valid_acts] = 1.0 / valid_acts.size\n",
    "    return (acts, 0.0)"
   ]
  },
  {
   "cell_type": "code",
   "execution_count": 4,
   "metadata": {},
   "outputs": [
    {
     "name": "stdout",
     "output_type": "stream",
     "text": [
      "Wall time: 5.21 s\n"
     ]
    },
    {
     "data": {
      "image/png": "[encoded data removed]",
      "text/plain": [
       "<matplotlib.figure.Figure at 0x23bd522a668>"
      ]
     },
     "metadata": {},
     "output_type": "display_data"
    },
    {
     "data": {
      "image/png": "[encoded data removed]",
      "text/plain": [
       "<matplotlib.figure.Figure at 0x23bd59810b8>"
      ]
     },
     "metadata": {},
     "output_type": "display_data"
    },
    {
     "data": {
      "image/png": "[encoded data removed]",
      "text/plain": [
       "<matplotlib.figure.Figure at 0x23bd53acba8>"
      ]
     },
     "metadata": {},
     "output_type": "display_data"
    },
    {
     "data": {
      "image/png": "[encoded data removed]",
      "text/plain": [
       "<matplotlib.figure.Figure at 0x23bd53c39e8>"
      ]
     },
     "metadata": {},
     "output_type": "display_data"
    },
    {
     "data": {
      "image/png": "[encoded data removed]",
      "text/plain": [
       "<matplotlib.figure.Figure at 0x23bd5568860>"
      ]
     },
     "metadata": {},
     "output_type": "display_data"
    },
    {
     "data": {
      "image/png": "[encoded data removed]",
      "text/plain": [
       "<matplotlib.figure.Figure at 0x23bd5565e48>"
      ]
     },
     "metadata": {},
     "output_type": "display_data"
    },
    {
     "data": {
      "image/png": "[encoded data removed]",
      "text/plain": [
       "<matplotlib.figure.Figure at 0x23bd57d9b00>"
      ]
     },
     "metadata": {},
     "output_type": "display_data"
    },
    {
     "data": {
      "image/png": "[encoded data removed]",
      "text/plain": [
       "<matplotlib.figure.Figure at 0x23bd59c8898>"
      ]
     },
     "metadata": {},
     "output_type": "display_data"
    },
    {
     "data": {
      "image/png": "[encoded data removed]",
      "text/plain": [
       "<matplotlib.figure.Figure at 0x23bd55f1128>"
      ]
     },
     "metadata": {},
     "output_type": "display_data"
    },
    {
     "data": {
      "image/png": "[encoded data removed]",
      "text/plain": [
       "<matplotlib.figure.Figure at 0x23bd54ca048>"
      ]
     },
     "metadata": {},
     "output_type": "display_data"
    }
   ],
   "source": [
    "%%time\n",
    "\n",
    "for s, _, _, _ in MCTSPlayer(ttt, ttt_eval_state).play_self(10000):\n",
    "    plt.matshow(s.reshape(3, 3))"
   ]
  },
  {
   "cell_type": "code",
   "execution_count": 5,
   "metadata": {},
   "outputs": [],
   "source": [
    "def softmax(x):\n",
    "    if len(x.shape) == 1:\n",
    "        exped = np.exp(x - np.max(x))\n",
    "        return exped / exped.sum()\n",
    "    else:\n",
    "        mx = np.max(x, axis=1)\n",
    "        mx = mx.reshape((1,) + mx.shape).transpose()\n",
    "        exped = np.exp(x - mx)\n",
    "        denom = np.sum(exped, axis=1)\n",
    "        denom = denom.reshape((1,) + denom.shape).transpose()\n",
    "        return exped / denom\n",
    "    \n",
    "example_search_len = 20\n",
    "\n",
    "class ExpertIterationTrainer(Generic[State]):\n",
    "    def __init__(self,\n",
    "                 mk_eval_feed_dict: Fn[[List[State]], Dict[tf.Tensor, np.ndarray]],\n",
    "                 mk_train_feed_dict: Fn[[List[Tuple[np.ndarray, float]]], \n",
    "                                        Dict[tf.Tensor, np.ndarray]],\n",
    "                 actions: tf.Tensor,\n",
    "                 value: tf.Tensor,\n",
    "                 optimizer: tf.train.Optimizer,\n",
    "                 graph: tf.Graph,\n",
    "                 saver: tf.Operation, \n",
    "                 game: Game[State],\n",
    "                 num_iterations: int,\n",
    "                 iteration_size: int = 100,\n",
    "                 search_size: int = 100,\n",
    "                 check_file = 'checkpoint'):\n",
    "        self.mk_eval_feed_dict = mk_eval_feed_dict\n",
    "        self.mk_train_feed_dict = mk_train_feed_dict\n",
    "        self.actions = actions\n",
    "        self.value = value\n",
    "        self.optimizer = optimizer\n",
    "        self.graph = graph\n",
    "        self.saver = saver\n",
    "        self.game = game\n",
    "        self.num_iterations = num_iterations\n",
    "        self.iteration_size = iteration_size\n",
    "        self.search_size = search_size\n",
    "        self.save_file = os.path.join(\n",
    "            ExpertIterationTrainer.checkpoint_folder, check_file)\n",
    "        \n",
    "    checkpoint_folder = os.path.join('.', 'checkpoints')\n",
    "    if not os.path.exists(checkpoint_folder):\n",
    "        os.makedirs(checkpoint_folder)\n",
    "        \n",
    "    def train_player(self):\n",
    "        with tf.Session(graph=self.graph) as (train_sess\n",
    "          ), tf.Session(graph=self.graph) as check_sess:\n",
    "            train_sess.run(tf.global_variables_initializer())\n",
    "            best_so_far = self.saver.save(train_sess, self.save_file, 0)\n",
    "            self.saver.restore(check_sess, best_so_far)\n",
    "            \n",
    "            player = MCTSPlayer(self.game, lambda s, p: self.eval_state(train_sess, s, p))\n",
    "            example_games = [player.play_self(example_search_len)]\n",
    "            new_probs = [self.eval_state(train_sess, res[0], res[3]) for res in example_games[-1]]\n",
    "            example_probs = [new_probs]\n",
    "            all_states, all_labels = [], []\n",
    "            states = []\n",
    "            labels = []\n",
    "            for i in range(1, self.num_iterations + 1):\n",
    "                positions = self.play_games(train_sess)\n",
    "                states.append(list(map(lambda g: g[0], positions)))\n",
    "                labels.append(list(map(lambda g: (g[1], g[2]), positions)))\n",
    "                all_states.append(states[-1])\n",
    "                all_labels.append(labels[-1])\n",
    "                if len(states) > 10:\n",
    "                    states = states[1:]\n",
    "                    labels = labels[1:]\n",
    "                self.train_on(train_sess, sum(states, []), sum(labels, []))\n",
    "                \n",
    "                example_games.append(player.play_self(example_search_len))\n",
    "                new_probs = [self.eval_state(train_sess, res[0], res[3]) for res in example_games[-1]]\n",
    "                example_probs.append(new_probs)\n",
    "\n",
    "                if self.is_better(train_sess, check_sess):\n",
    "                    best_so_far = self.saver.save(train_sess, self.save_file, i)\n",
    "                    self.saver.restore(check_sess, best_so_far)\n",
    "                else:\n",
    "                    self.saver.restore(train_sess, best_so_far)\n",
    "\n",
    "                print('finished step %d' % i)\n",
    "            \n",
    "            example_games.append(player.play_self(example_search_len))\n",
    "            new_probs = [self.eval_state(train_sess, res[0], res[3]) for res in example_games[-1]]\n",
    "            example_probs.append(new_probs)\n",
    "        \n",
    "            return example_games, all_states, all_labels, example_probs\n",
    "    \n",
    "    def is_better(self, train_sess, check_sess):\n",
    "        def eval_as_x(s, p):\n",
    "            return self.eval_state(train_sess if p == 1 else check_sess, s, p)\n",
    "        x_player = MCTSPlayer(self.game, eval_as_x)\n",
    "        def eval_as_o(s, p):\n",
    "            return self.eval_state(train_sess if p == -1 else check_sess, s, p)\n",
    "        o_player = MCTSPlayer(self.game, eval_as_o)\n",
    "        \n",
    "        tot_games = 10\n",
    "        x_reward = 0\n",
    "        o_reward = 0\n",
    "        for i in range(tot_games):\n",
    "            x_reward += x_player.play_self(self.search_size)[0][2]\n",
    "            o_reward -= o_player.play_self(self.search_size)[0][2]\n",
    "        \n",
    "        print(x_reward, o_reward)\n",
    "        avg_reward = (x_reward + o_reward) / (2 * tot_games)\n",
    "        return avg_reward > 0.0\n",
    "    \n",
    "    def play_games(self, sess: tf.Session) -> List[Tuple[State, np.ndarray, float]]:\n",
    "        \n",
    "        work_q = queue.Queue()\n",
    "        result_q = queue.Queue()\n",
    "        go = queue.Queue()\n",
    "        alive = [self.iteration_size]\n",
    "        in_q = [0]\n",
    "        counter_lock = threading.Lock()\n",
    "        \n",
    "        def mp_play_self():\n",
    "            my_q = queue.Queue()\n",
    "\n",
    "            def eval_state(state: State, p: Player) -> Tuple[np.ndarray, float]:\n",
    "                with counter_lock:\n",
    "                    work_q.put(((state, p), my_q))\n",
    "                    in_q[0] += 1\n",
    "                    if alive[0] == in_q[0]:\n",
    "                        go.put(True)\n",
    "                return my_q.get()\n",
    "\n",
    "            player = MCTSPlayer(self.game, eval_state)\n",
    "            result = player.play_self(self.search_size, 1.0)\n",
    "            with counter_lock:\n",
    "                alive[0] -= 1\n",
    "                result_q.put(result)\n",
    "                if alive[0] == 0:\n",
    "                    go.put(False)\n",
    "                elif alive[0] == in_q[0]:\n",
    "                    go.put(True)\n",
    "        \n",
    "        for _ in range(self.iteration_size):\n",
    "            threading.Thread(target=mp_play_self).start()\n",
    "\n",
    "        while go.get():\n",
    "            with counter_lock:\n",
    "                ret_qs = []\n",
    "                states = []\n",
    "                players = []\n",
    "                for _ in range(in_q[0]):\n",
    "                    (state, player), ret_q = work_q.get_nowait()\n",
    "                    end = self.game.end(state, player)\n",
    "                    if end != None:\n",
    "                        ret_q.put((np.zeros(self.actions.shape[1:].as_list()), end))\n",
    "                    else: \n",
    "                        ret_qs.append(ret_q)\n",
    "                        states.append(state)\n",
    "                        players.append(player)\n",
    "                in_q[0] = 0\n",
    "                if len(states) > 0:\n",
    "                    a, v = self.eval_states(sess, states, players)\n",
    "                    for j, ret_q in enumerate(ret_qs):\n",
    "                        ret_q.put((a[j], v[j]))\n",
    "                        \n",
    "        positions = []\n",
    "        while not result_q.empty():\n",
    "            positions += result_q.get_nowait()[:-1]\n",
    "        return positions\n",
    "    \n",
    "    def train_on(self,\n",
    "                 sess: tf.Session,\n",
    "                 states: List[State], \n",
    "                 labels: List[Tuple[np.ndarray, float]]):\n",
    "        for i in range(1000):\n",
    "            select = np.random.choice(np.arange(len(states)), 64)\n",
    "            select_states = [states[j] for j in select]\n",
    "            select_labels = [labels[j] for j in select]\n",
    "            \n",
    "            feed = {**self.mk_eval_feed_dict(select_states), \n",
    "                    **self.mk_train_feed_dict(select_labels)}\n",
    "\n",
    "            sess.run(optimizer, feed_dict=feed)\n",
    "        \n",
    "\n",
    "    def eval_states(self, \n",
    "                    sess: tf.Session, \n",
    "                    states: List[State],\n",
    "                    players: List[Player]) -> Tuple[np.ndarray, np.ndarray]:\n",
    "        feed = self.mk_eval_feed_dict(states)\n",
    "        actions, value = sess.run([self.actions, self.value], feed_dict=feed)\n",
    "        for i in range(actions.shape[0]):\n",
    "            action = actions[i]\n",
    "            poss_actions = self.game.get_actions(states[i], players[i])\n",
    "            mask = np.ones_like(action, dtype=bool)\n",
    "            mask[poss_actions] = False\n",
    "            action[mask] = 0.0\n",
    "            action[poss_actions] = softmax(action[poss_actions])\n",
    "\n",
    "        return (actions, value)\n",
    "\n",
    "    def eval_state(self, sess: tf.Session, state: State, player: Player) -> Tuple[np.ndarray, float]:\n",
    "        end = self.game.end(state, player)\n",
    "        if end != None:\n",
    "            return (np.zeros(self.actions.shape[1:].as_list()), end)\n",
    "        a, v = self.eval_states(sess, [state], [player])\n",
    "        return a[0], v[0][0]"
   ]
  },
  {
   "cell_type": "code",
   "execution_count": 6,
   "metadata": {},
   "outputs": [],
   "source": [
    "l2_loss_coeff = 0.01\n",
    "hidden_size = 100\n",
    "\n",
    "graph = tf.Graph()\n",
    "with graph.as_default():\n",
    "    ttt_hw = tf.Variable(tf.truncated_normal([9, hidden_size]))\n",
    "    ttt_hb = tf.Variable(tf.zeros([hidden_size]))\n",
    "    \n",
    "    ttt_aw = tf.Variable(tf.truncated_normal([hidden_size, 9]))\n",
    "    ttt_ab = tf.Variable(tf.zeros([9]))\n",
    "    \n",
    "    ttt_vw = tf.Variable(tf.truncated_normal([hidden_size, 1]))\n",
    "    ttt_vb = tf.Variable(tf.zeros([1]))\n",
    "    \n",
    "    weights = [ttt_hw, ttt_hb, ttt_aw, ttt_ab, ttt_vw, ttt_vb]\n",
    "    saver = tf.train.Saver(weights)\n",
    "    \n",
    "    tf_boards = tf.placeholder(tf.float32, shape=[None, 9])\n",
    "    hidden = tf.nn.relu(tf.matmul(tf_boards, ttt_hw) + ttt_hb)\n",
    "    actions = tf.matmul(hidden, ttt_aw) + ttt_ab\n",
    "    value = tf.tanh(tf.matmul(hidden, ttt_vw) + ttt_vb)\n",
    "    \n",
    "    tf_probs = tf.placeholder(tf.float32, shape=[None, 9])\n",
    "    tf_zs = tf.placeholder(tf.float32, shape=[None])\n",
    "    \n",
    "    loss = tf.reduce_mean(tf.square(tf_zs - value))\n",
    "    loss = loss + tf.reduce_mean(\n",
    "        tf.nn.softmax_cross_entropy_with_logits(labels=tf_probs, logits=actions))\n",
    "    for w in weights:\n",
    "        loss = loss + l2_loss_coeff * tf.nn.l2_loss(w)\n",
    "        \n",
    "    optimizer = tf.train.AdamOptimizer().minimize(loss)"
   ]
  },
  {
   "cell_type": "code",
   "execution_count": 7,
   "metadata": {},
   "outputs": [],
   "source": [
    "def mk_eval_feed_dict(states: List[State]):\n",
    "    return { tf_boards: np.array(states) }\n",
    "\n",
    "def mk_train_feed_dict(vals: List[Tuple[np.ndarray, float]]):\n",
    "    probs, zs = tuple([list(t) for t in zip(*vals)])\n",
    "    return { tf_probs: np.array(probs),\n",
    "             tf_zs: np.array(zs) }\n",
    "\n",
    "trainer = ExpertIterationTrainer(mk_eval_feed_dict, mk_train_feed_dict,\n",
    "                                 actions, value, optimizer,\n",
    "                                 graph, saver, ttt, 5)"
   ]
  },
  {
   "cell_type": "code",
   "execution_count": 8,
   "metadata": {},
   "outputs": [
    {
     "name": "stdout",
     "output_type": "stream",
     "text": [
      "INFO:tensorflow:Restoring parameters from .\\checkpoints\\checkpoint-0\n",
      "10 0.0\n",
      "INFO:tensorflow:Restoring parameters from .\\checkpoints\\checkpoint-1\n",
      "finished step 1\n",
      "0.0 -10\n",
      "INFO:tensorflow:Restoring parameters from .\\checkpoints\\checkpoint-1\n",
      "finished step 2\n",
      "0.0 -8.0\n",
      "INFO:tensorflow:Restoring parameters from .\\checkpoints\\checkpoint-1\n",
      "finished step 3\n",
      "0.0 -7.0\n",
      "INFO:tensorflow:Restoring parameters from .\\checkpoints\\checkpoint-1\n",
      "finished step 4\n",
      "0.0 -1.0\n",
      "INFO:tensorflow:Restoring parameters from .\\checkpoints\\checkpoint-1\n",
      "finished step 5\n",
      "Wall time: 1min 43s\n"
     ]
    },
    {
     "data": {
      "image/png": "[encoded data removed]",
      "text/plain": [
       "<matplotlib.figure.Figure at 0x23bd55cb1d0>"
      ]
     },
     "metadata": {},
     "output_type": "display_data"
    },
    {
     "data": {
      "image/png": "[encoded data removed]",
      "text/plain": [
       "<matplotlib.figure.Figure at 0x23bd561f898>"
      ]
     },
     "metadata": {},
     "output_type": "display_data"
    },
    {
     "data": {
      "image/png": "[encoded data removed]",
      "text/plain": [
       "<matplotlib.figure.Figure at 0x23c6fcd0fd0>"
      ]
     },
     "metadata": {},
     "output_type": "display_data"
    },
    {
     "data": {
      "image/png": "[encoded data removed]",
      "text/plain": [
       "<matplotlib.figure.Figure at 0x23c77dc5a20>"
      ]
     },
     "metadata": {},
     "output_type": "display_data"
    },
    {
     "data": {
      "image/png": "[encoded data removed]",
      "text/plain": [
       "<matplotlib.figure.Figure at 0x23c6436ba58>"
      ]
     },
     "metadata": {},
     "output_type": "display_data"
    },
    {
     "data": {
      "image/png": "[encoded data removed]",
      "text/plain": [
       "<matplotlib.figure.Figure at 0x23c7917b1d0>"
      ]
     },
     "metadata": {},
     "output_type": "display_data"
    },
    {
     "data": {
      "image/png": "[encoded data removed]",
      "text/plain": [
       "<matplotlib.figure.Figure at 0x23c79590d30>"
      ]
     },
     "metadata": {},
     "output_type": "display_data"
    }
   ],
   "source": [
    "%%time\n",
    "\n",
    "examples, states, labels, probs = trainer.train_player()\n",
    "for g in examples[::1]:\n",
    "    plt.matshow(g[-1][0].reshape(3, 3))"
   ]
  }
 ],
 "metadata": {
  "kernelspec": {
   "display_name": "Python 3",
   "language": "python",
   "name": "python3"
  },
  "language_info": {
   "codemirror_mode": {
    "name": "ipython",
    "version": 3
   },
   "file_extension": ".py",
   "mimetype": "text/x-python",
   "name": "python",
   "nbconvert_exporter": "python",
   "pygments_lexer": "ipython3",
   "version": "3.6.3"
  }
 },
 "nbformat": 4,
 "nbformat_minor": 2
}
