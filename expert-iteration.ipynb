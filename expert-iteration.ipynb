{
 "cells": [
  {
   "cell_type": "code",
   "execution_count": 1,
   "metadata": {},
   "outputs": [],
   "source": [
    "import tensorflow as tf\n",
    "import numpy as np\n",
    "import matplotlib.pyplot as plt\n",
    "import math\n",
    "import threading\n",
    "import queue\n",
    "from typing import TypeVar, Dict, Callable, Tuple, Union, List, Generic\n",
    "Fn = Callable\n",
    "\n",
    "%matplotlib inline\n",
    "%load_ext line_profiler"
   ]
  },
  {
   "cell_type": "code",
   "execution_count": 2,
   "metadata": {},
   "outputs": [],
   "source": [
    "Action = int\n",
    "State = TypeVar('State')\n",
    "c_puct: float = 10.0\n",
    "\n",
    "def sample(it):\n",
    "    rand = np.random.sample()\n",
    "    t = 0.0\n",
    "    if isinstance(it, dict):\n",
    "        it = it.items()\n",
    "    else:\n",
    "        it = enumerate(it)\n",
    "    for i, f in it:\n",
    "        t = t + f\n",
    "        if rand <= t:\n",
    "            return i \n",
    "    \n",
    "class MCTSNode(Generic[State]):\n",
    "    def __init__(self, state: State, probs: np.ndarray) -> None:\n",
    "        self.actions = np.flatnonzero(probs)\n",
    "        self.inv_actions = np.empty_like(probs, dtype=np.int)\n",
    "        self.inv_actions[self.actions] = np.arange(self.actions.size)\n",
    "        \n",
    "        self.N: np.ndarray = np.zeros_like(self.actions, dtype=np.int)\n",
    "        self.W: np.ndarray = np.zeros_like(self.actions, dtype=np.float)\n",
    "        self.Q: np.ndarray = np.zeros_like(self.actions, dtype=np.float)\n",
    "        self.P: np.ndarray = probs[self.actions]\n",
    "        \n",
    "        self.state: State = state\n",
    "        self.total_visits: int = 0\n",
    "        self.children: List[MCTSNode] = [None] * probs.size\n",
    "            \n",
    "    def select_action(self) -> Action:\n",
    "        if not self.actions.size:\n",
    "            return None\n",
    "        \n",
    "        root_total = math.sqrt(self.total_visits)\n",
    "        \n",
    "        selection_priorities = self.Q + c_puct * root_total * self.P / (1 + self.N)\n",
    "        return self.actions[np.argmax(selection_priorities)]\n",
    "    \n",
    "    def backup(self, a, v):\n",
    "        self.total_visits = self.total_visits + 1\n",
    "        idx = self.inv_actions[a]\n",
    "        self.N[idx] = self.N[idx] + 1\n",
    "        self.W[idx] = self.W[idx] + v\n",
    "        self.Q[idx] = self.W[idx] / self.N[idx]\n",
    "    \n",
    "    def probs(self, temp) -> np.ndarray:\n",
    "        if temp == 0.0:\n",
    "            ret = np.zeros_like(self.inv_actions)\n",
    "            ret[self.actions[np.argmax(self.N)]] = 1.0\n",
    "            return ret\n",
    "        exps = self.N ** (1.0 / temp)\n",
    "        ret = np.zeros_like(self.inv_actions, dtype=np.float)\n",
    "        ret[self.actions] = exps / np.sum(exps)\n",
    "        return ret\n",
    "    \n",
    "class Game(Generic[State]):\n",
    "    def __init__(self,\n",
    "                 gen_root: Fn[[], State],\n",
    "                 do_action: Fn[[State, Action], State],\n",
    "                 get_actions: Fn[[State], List[Action]],\n",
    "                 end: Fn[[State], int]):\n",
    "        self.gen_root = gen_root\n",
    "        self.do_action = do_action\n",
    "        self.get_actions = get_actions\n",
    "        self.end = end\n",
    "    \n",
    "class MCTSPlayer(Generic[State]):\n",
    "    def __init__(self,\n",
    "                 game: Game[State],\n",
    "                 eval_state: Fn[[State], Tuple[np.ndarray, float]]):\n",
    "        self.game = game\n",
    "        self.eval_state = eval_state\n",
    "        \n",
    "    def take_turn(self, root_node: Union[MCTSNode, State], search_size: int) -> MCTSNode:\n",
    "        if not isinstance(root_node, MCTSNode):\n",
    "            probs, _ = self.eval_state(root_node)\n",
    "            root_node = MCTSNode(root_node)\n",
    "        \n",
    "        for _ in range(search_size):\n",
    "            cur_node = root_node\n",
    "            next_action = cur_node.select_action()\n",
    "            prev = [(cur_node, next_action)]\n",
    "\n",
    "            while next_action != None and cur_node.children[next_action] != None:\n",
    "                cur_node = cur_node.children[next_action]\n",
    "                next_action = cur_node.select_action()\n",
    "\n",
    "                if next_action != None:\n",
    "                    prev.append((cur_node, next_action))\n",
    "\n",
    "            v: float\n",
    "            if next_action == None:\n",
    "                _, v = self.eval_state(cur_node.state)\n",
    "            else:\n",
    "                new_state = self.game.do_action(cur_node.state, next_action)\n",
    "                probs, v = self.eval_state(new_state)\n",
    "                new_node = MCTSNode(new_state, probs)\n",
    "                cur_node.children[next_action] = new_node\n",
    "\n",
    "            for i, (node, act) in enumerate(reversed(prev)):\n",
    "                node.backup(act, v if i % 2 == 1 else -v)\n",
    "                \n",
    "        return root_node\n",
    "    \n",
    "    def play_self(self, search_size: int, temp: float = 0.0) -> List[Tuple[State, np.ndarray, float]]:\n",
    "        root_state = self.game.gen_root()\n",
    "        probs, _ = self.eval_state(root_state)\n",
    "        cur_node = MCTSNode(root_state, probs)\n",
    "        history: List[Tuple[State, np.ndarray]] = []\n",
    "        \n",
    "        while cur_node.actions.size != 0:\n",
    "            self.take_turn(cur_node, search_size)\n",
    "            probs = cur_node.probs(temp)\n",
    "            next_act = sample(probs)\n",
    "            \n",
    "            history.append((cur_node.state, probs))\n",
    "            \n",
    "            cur_node = cur_node.children[next_act]\n",
    "            \n",
    "        #print(ttt_end(cur_node.state, True), cur_node.state, np.all(cur_node.state[0]))\n",
    "        history.append((cur_node.state, probs))\n",
    "        _, r = self.eval_state(cur_node.state)\n",
    "        \n",
    "        return list(reversed([(s, p, r if i % 2 == 1 else -r)\n",
    "                              for i, (s, p) in enumerate(reversed(history))]))\n"
   ]
  },
  {
   "cell_type": "code",
   "execution_count": 3,
   "metadata": {},
   "outputs": [],
   "source": [
    "TTTState = Tuple[np.ndarray, int]\n",
    "ttt_board_shape = (9,)\n",
    "\n",
    "def ttt_gen_root() -> TTTState:\n",
    "    return (np.zeros(9, dtype=np.int), 1)\n",
    "\n",
    "def ttt_do_action(s: TTTState, a: Action) -> TTTState:\n",
    "    new_board = np.copy(s[0])\n",
    "    cur_player = s[1]\n",
    "    \n",
    "    new_board[a] = cur_player\n",
    "    return (new_board, -cur_player)\n",
    "\n",
    "def ttt_get_actions(s: TTTState) -> np.ndarray:\n",
    "    return np.nonzero(s[0] == 0)[0]\n",
    "\n",
    "_end_idx = sum([[3 * i, 3 * i + 1, 3 * i + 2, i, i + 3, i + 6 ] for i in range(3)], [])\n",
    "_end_idx = np.array(_end_idx + [2, 4, 6, 0, 4, 8])\n",
    "_inv_end_idx = np.array(sum([[3 * i, i] for i in range(3)], []) + [2, 0])\n",
    "def ttt_end(s: TTTState) -> int:\n",
    "    board = s[0]\n",
    "    \n",
    "    z = np.flatnonzero(np.abs(np.sum(board[_end_idx].reshape(8, 3), axis=1)) == 3)\n",
    "    if z.size:\n",
    "        return board[_inv_end_idx[z[0]]] * s[1]\n",
    "\n",
    "    if np.all(board):\n",
    "        return 0.0\n",
    "    \n",
    "    return None\n",
    "\n",
    "def ttt_eval_state(s: TTTState) -> Tuple[np.ndarray, float]:\n",
    "    end = ttt_end(s)\n",
    "    if end != None:\n",
    "        return (np.zeros(ttt_board_shape), end)\n",
    "    acts = np.zeros(ttt_board_shape)\n",
    "    valid_acts = ttt_get_actions(s)\n",
    "    acts[valid_acts] = 1.0 / valid_acts.size\n",
    "    return (acts, 0.0)\n",
    "    \n",
    "ttt = Game(ttt_gen_root, ttt_do_action, ttt_get_actions, ttt_end)"
   ]
  },
  {
   "cell_type": "code",
   "execution_count": 4,
   "metadata": {},
   "outputs": [
    {
     "name": "stdout",
     "output_type": "stream",
     "text": [
      "Wall time: 6.34 s\n"
     ]
    },
    {
     "data": {
      "image/png": "[encoded data removed]",
      "text/plain": [
       "<matplotlib.figure.Figure at 0x1be41b085c0>"
      ]
     },
     "metadata": {},
     "output_type": "display_data"
    },
    {
     "data": {
      "image/png": "[encoded data removed]",
      "text/plain": [
       "<matplotlib.figure.Figure at 0x1be42494a20>"
      ]
     },
     "metadata": {},
     "output_type": "display_data"
    },
    {
     "data": {
      "image/png": "[encoded data removed]",
      "text/plain": [
       "<matplotlib.figure.Figure at 0x1be42b46470>"
      ]
     },
     "metadata": {},
     "output_type": "display_data"
    },
    {
     "data": {
      "image/png": "[encoded data removed]",
      "text/plain": [
       "<matplotlib.figure.Figure at 0x1be42b4dd30>"
      ]
     },
     "metadata": {},
     "output_type": "display_data"
    },
    {
     "data": {
      "image/png": "[encoded data removed]",
      "text/plain": [
       "<matplotlib.figure.Figure at 0x1be42ca2128>"
      ]
     },
     "metadata": {},
     "output_type": "display_data"
    },
    {
     "data": {
      "image/png": "[encoded data removed]",
      "text/plain": [
       "<matplotlib.figure.Figure at 0x1be42ca4860>"
      ]
     },
     "metadata": {},
     "output_type": "display_data"
    },
    {
     "data": {
      "image/png": "[encoded data removed]",
      "text/plain": [
       "<matplotlib.figure.Figure at 0x1be42d14630>"
      ]
     },
     "metadata": {},
     "output_type": "display_data"
    },
    {
     "data": {
      "image/png": "[encoded data removed]",
      "text/plain": [
       "<matplotlib.figure.Figure at 0x1be42ce1550>"
      ]
     },
     "metadata": {},
     "output_type": "display_data"
    },
    {
     "data": {
      "image/png": "[encoded data removed]",
      "text/plain": [
       "<matplotlib.figure.Figure at 0x1be42b63240>"
      ]
     },
     "metadata": {},
     "output_type": "display_data"
    },
    {
     "data": {
      "image/png": "[encoded data removed]",
      "text/plain": [
       "<matplotlib.figure.Figure at 0x1be429fdf60>"
      ]
     },
     "metadata": {},
     "output_type": "display_data"
    }
   ],
   "source": [
    "%%time\n",
    "\n",
    "for s, _, _ in MCTSPlayer(ttt, ttt_eval_state).play_self(10000):\n",
    "    plt.matshow(np.array(s[0]).reshape(3, 3))"
   ]
  },
  {
   "cell_type": "code",
   "execution_count": 18,
   "metadata": {},
   "outputs": [],
   "source": [
    "def softmax(x):\n",
    "    if len(x.shape) == 1:\n",
    "        exped = np.exp(x - np.max(x))\n",
    "        return exped / exped.sum()\n",
    "    else:\n",
    "        mx = np.max(x, axis=1)\n",
    "        mx = mx.reshape((1,) + mx.shape).transpose()\n",
    "        exped = np.exp(x - mx)\n",
    "        denom = np.sum(exped, axis=1)\n",
    "        denom = denom.reshape((1,) + denom.shape).transpose()\n",
    "        return exped / denom\n",
    "\n",
    "class ExpertIterationTrainer(Generic[State]):\n",
    "    def __init__(self,\n",
    "                 mk_eval_feed_dict: Fn[[List[State]], Dict[tf.Tensor, np.ndarray]],\n",
    "                 mk_train_feed_dict: Fn[[List[Tuple[np.ndarray, float]]], \n",
    "                                        Dict[tf.Tensor, np.ndarray]],\n",
    "                 actions: tf.Tensor,\n",
    "                 value: tf.Tensor,\n",
    "                 optimizer: tf.train.Optimizer,\n",
    "                 graph: tf.Graph,\n",
    "                 game: Game[State],\n",
    "                 num_iterations: int,\n",
    "                 iteration_size: int = 100,\n",
    "                 search_size: int = 100):\n",
    "        self.mk_eval_feed_dict = mk_eval_feed_dict\n",
    "        self.mk_train_feed_dict = mk_train_feed_dict\n",
    "        self.actions = actions\n",
    "        self.value = value\n",
    "        self.optimizer = optimizer\n",
    "        self.graph = graph\n",
    "        self.game = game\n",
    "        self.num_iterations = num_iterations\n",
    "        self.iteration_size = iteration_size\n",
    "        self.search_size = search_size\n",
    "        \n",
    "        self.sess = None\n",
    "        \n",
    "    def train_player(self):\n",
    "        with tf.Session(graph=self.graph) as session:\n",
    "            self.sess = session\n",
    "            tf.global_variables_initializer().run()\n",
    "            \n",
    "            player = MCTSPlayer(self.game, self.eval_state)\n",
    "            example_games = [player.play_self(1)]\n",
    "            states = []\n",
    "            labels = []\n",
    "            for i in range(self.num_iterations):\n",
    "                positions = self.play_games()\n",
    "                states += list(map(lambda g: g[0], positions))\n",
    "                labels += list(map(lambda g: (g[1], g[2]), positions))\n",
    "                self.train_on(states, labels)\n",
    "\n",
    "                example_games.append(player.play_self(1))\n",
    "                print('finished step %d' % i)\n",
    "                \n",
    "        return example_games\n",
    "    \n",
    "    def play_games(self) -> List[Tuple[State, np.ndarray, float]]:\n",
    "        \n",
    "        work_q = queue.Queue()\n",
    "        result_q = queue.Queue()\n",
    "        go = queue.Queue()\n",
    "        alive = [self.iteration_size]\n",
    "        in_q = [0]\n",
    "        counter_lock = threading.Lock()\n",
    "        \n",
    "        def mp_play_self():\n",
    "            my_q = queue.Queue()\n",
    "\n",
    "            def eval_state(state: State) -> Tuple[np.ndarray, float]:\n",
    "                with counter_lock:\n",
    "                    work_q.put((state, my_q))\n",
    "                    in_q[0] += 1\n",
    "                    if alive[0] == in_q[0]:\n",
    "                        go.put(True)\n",
    "                return my_q.get()\n",
    "\n",
    "            player = MCTSPlayer(self.game, eval_state)\n",
    "            result = player.play_self(self.search_size, 1.0)\n",
    "            with counter_lock:\n",
    "                alive[0] -= 1\n",
    "                result_q.put(result)\n",
    "                if alive[0] == 0:\n",
    "                    go.put(False)\n",
    "                elif alive[0] == in_q[0]:\n",
    "                    go.put(True)\n",
    "        \n",
    "        for _ in range(self.iteration_size):\n",
    "            threading.Thread(target=mp_play_self).start()\n",
    "\n",
    "        while go.get():\n",
    "            with counter_lock:\n",
    "                ret_qs = []\n",
    "                states = []\n",
    "                for _ in range(in_q[0]):\n",
    "                    state, ret_q = work_q.get_nowait()\n",
    "                    end = self.game.end(state)\n",
    "                    if end != None:\n",
    "                        ret_q.put((np.zeros(self.actions.shape[1:].as_list()), end))\n",
    "                    else: \n",
    "                        ret_qs.append(ret_q)\n",
    "                        states.append(state)\n",
    "                in_q[0] = 0\n",
    "                if len(states) > 0:\n",
    "                    a, v = self.eval_states(states)\n",
    "                    for j, ret_q in enumerate(ret_qs):\n",
    "                        ret_q.put((a[j], v[j]))\n",
    "                        \n",
    "        positions = []\n",
    "        while not result_q.empty():\n",
    "            positions += result_q.get_nowait()\n",
    "        return positions\n",
    "    \n",
    "    def train_on(self, states: List[State], \n",
    "                 labels: List[Tuple[np.ndarray, float]]):\n",
    "        feed = {**self.mk_eval_feed_dict(states), \n",
    "                **self.mk_train_feed_dict(labels)}\n",
    "\n",
    "        optimizer.run(feed_dict=feed)\n",
    "        \n",
    "\n",
    "    def eval_states(self, states: List[State]) -> Tuple[np.ndarray, np.ndarray]:\n",
    "        feed = self.mk_eval_feed_dict(states)\n",
    "        actions, value = self.sess.run([self.actions, self.value], feed_dict=feed)\n",
    "        for i in range(actions.shape[0]):\n",
    "            action = actions[i]\n",
    "            poss_actions = self.game.get_actions(states[i])\n",
    "            mask = np.ones_like(action, dtype=bool)\n",
    "            mask[poss_actions] = False\n",
    "            action[mask] = 0.0\n",
    "            action[poss_actions] = softmax(action[poss_actions])\n",
    "\n",
    "        return (actions, value)\n",
    "\n",
    "    def eval_state(self, state: State) -> Tuple[np.ndarray, float]:\n",
    "        end = self.game.end(state)\n",
    "        if end != None:\n",
    "            return (np.zeros(self.actions.shape[1:].as_list()), end)\n",
    "        a, v = self.eval_states([state])\n",
    "        return a[0], v[0][0]"
   ]
  },
  {
   "cell_type": "code",
   "execution_count": 19,
   "metadata": {},
   "outputs": [],
   "source": [
    "l2_loss_coeff = 0.01\n",
    "\n",
    "graph = tf.Graph()\n",
    "with graph.as_default():\n",
    "    ttt_hw = tf.Variable(tf.truncated_normal([9, 50]))\n",
    "    ttt_hb = tf.Variable(tf.zeros([50]))\n",
    "    \n",
    "    ttt_aw = tf.Variable(tf.truncated_normal([50, 9]))\n",
    "    ttt_ab = tf.Variable(tf.zeros([9]))\n",
    "    \n",
    "    ttt_vw = tf.Variable(tf.truncated_normal([50, 1]))\n",
    "    ttt_vb = tf.Variable(tf.zeros([1]))\n",
    "    \n",
    "    weights = [ttt_hw, ttt_hb, ttt_aw, ttt_ab, ttt_vw, ttt_vb]\n",
    "    \n",
    "    tf_boards = tf.placeholder(tf.float32, shape=[None, 9])\n",
    "    hidden = tf.nn.relu(tf.matmul(tf_boards, ttt_hw) + ttt_hb)\n",
    "    actions = tf.matmul(hidden, ttt_aw) + ttt_ab\n",
    "    value = tf.tanh(tf.matmul(hidden, ttt_vw) + ttt_vb)\n",
    "    \n",
    "    tf_probs = tf.placeholder(tf.float32, shape=[None, 9])\n",
    "    tf_zs = tf.placeholder(tf.float32, shape=[None])\n",
    "    \n",
    "    loss = tf.reduce_mean(tf.square(tf_zs - value))\n",
    "    loss = loss + tf.reduce_mean(\n",
    "        tf.nn.softmax_cross_entropy_with_logits(labels=tf_probs, logits=actions))\n",
    "    for w in weights:\n",
    "        loss = loss + l2_loss_coeff * tf.nn.l2_loss(w)\n",
    "        \n",
    "    optimizer = tf.train.AdamOptimizer().minimize(loss)"
   ]
  },
  {
   "cell_type": "code",
   "execution_count": 20,
   "metadata": {},
   "outputs": [],
   "source": [
    "def mk_eval_feed_dict(states: List[State]):\n",
    "    return { tf_boards: np.array([ s[0] for s in states ]) }\n",
    "\n",
    "def mk_train_feed_dict(vals: List[Tuple[np.ndarray, float]]):\n",
    "    probs, zs = tuple([list(t) for t in zip(*vals)])\n",
    "    return { tf_probs: np.array(probs),\n",
    "             tf_zs: np.array(zs) }\n",
    "\n",
    "trainer = ExpertIterationTrainer(mk_eval_feed_dict, mk_train_feed_dict,\n",
    "                                 actions, value, optimizer,\n",
    "                                 graph, ttt, 5)"
   ]
  },
  {
   "cell_type": "code",
   "execution_count": 21,
   "metadata": {},
   "outputs": [
    {
     "name": "stdout",
     "output_type": "stream",
     "text": [
      "finished step 0\n",
      "finished step 1\n",
      "finished step 2\n",
      "finished step 3\n",
      "finished step 4\n",
      "Wall time: 54.4 s\n"
     ]
    },
    {
     "data": {
      "image/png": "[encoded data removed]",
      "text/plain": [
       "<matplotlib.figure.Figure at 0x1be3a5236a0>"
      ]
     },
     "metadata": {},
     "output_type": "display_data"
    },
    {
     "data": {
      "image/png": "[encoded data removed]",
      "text/plain": [
       "<matplotlib.figure.Figure at 0x1be42dc23c8>"
      ]
     },
     "metadata": {},
     "output_type": "display_data"
    },
    {
     "data": {
      "image/png": "[encoded data removed]",
      "text/plain": [
       "<matplotlib.figure.Figure at 0x1be4264a710>"
      ]
     },
     "metadata": {},
     "output_type": "display_data"
    },
    {
     "data": {
      "image/png": "[encoded data removed]",
      "text/plain": [
       "<matplotlib.figure.Figure at 0x1bef97c30f0>"
      ]
     },
     "metadata": {},
     "output_type": "display_data"
    },
    {
     "data": {
      "image/png": "[encoded data removed]",
      "text/plain": [
       "<matplotlib.figure.Figure at 0x1be42e035f8>"
      ]
     },
     "metadata": {},
     "output_type": "display_data"
    },
    {
     "data": {
      "image/png": "[encoded data removed]",
      "text/plain": [
       "<matplotlib.figure.Figure at 0x1be42ac5ba8>"
      ]
     },
     "metadata": {},
     "output_type": "display_data"
    }
   ],
   "source": [
    "%%time\n",
    "\n",
    "examples = trainer.train_player()\n",
    "for g in examples[::1]:\n",
    "    plt.matshow(g[-1][0][0].reshape(3, 3))"
   ]
  }
 ],
 "metadata": {
  "kernelspec": {
   "display_name": "Python 3",
   "language": "python",
   "name": "python3"
  },
  "language_info": {
   "codemirror_mode": {
    "name": "ipython",
    "version": 3
   },
   "file_extension": ".py",
   "mimetype": "text/x-python",
   "name": "python",
   "nbconvert_exporter": "python",
   "pygments_lexer": "ipython3",
   "version": "3.6.3"
  }
 },
 "nbformat": 4,
 "nbformat_minor": 2
}
